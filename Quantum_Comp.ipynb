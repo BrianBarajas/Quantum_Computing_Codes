{
 "cells": [
  {
   "cell_type": "markdown",
   "id": "40835f1a",
   "metadata": {},
   "source": [
    "# Código útilizado para el curso: Quantum Computing A-Z \n",
    "## Apuntes del curso\n",
    "### Brian Gabriel Barajas Guerrero\n"
   ]
  },
  {
   "cell_type": "code",
   "execution_count": 1,
   "id": "417d8ac2",
   "metadata": {},
   "outputs": [],
   "source": [
    "import numpy as np"
   ]
  },
  {
   "cell_type": "markdown",
   "id": "20625137",
   "metadata": {},
   "source": [
    "## Normalización de un vector"
   ]
  },
  {
   "cell_type": "code",
   "execution_count": 2,
   "id": "e667551b",
   "metadata": {},
   "outputs": [],
   "source": [
    "a = 2 - 1j\n",
    "b = 3 + 4j"
   ]
  },
  {
   "cell_type": "code",
   "execution_count": 3,
   "id": "e6f6db5b",
   "metadata": {},
   "outputs": [],
   "source": [
    "x = np.array([a,b])"
   ]
  },
  {
   "cell_type": "code",
   "execution_count": 4,
   "id": "e1731392",
   "metadata": {},
   "outputs": [],
   "source": [
    "def norma(vector):\n",
    "    def coefLong(coef):\n",
    "        return np.real(coef*np.conj(coef))\n",
    "    def totalLong():\n",
    "        sum = 0\n",
    "        for i in vector:\n",
    "            sum += coefLong(i)\n",
    "        return sum**(1/2)\n",
    "    totalSum = np.array(totalLong())\n",
    "    #print(totalSum)\n",
    "    return vector/totalSum"
   ]
  },
  {
   "cell_type": "code",
   "execution_count": 5,
   "id": "9ff46cc0",
   "metadata": {},
   "outputs": [],
   "source": [
    "y = norma(x)"
   ]
  },
  {
   "cell_type": "markdown",
   "id": "cf5d9ac0",
   "metadata": {},
   "source": [
    "## Producto Interno y externo"
   ]
  },
  {
   "cell_type": "code",
   "execution_count": 6,
   "id": "7f8d47f7",
   "metadata": {},
   "outputs": [],
   "source": [
    "def prodInter(A, B):\n",
    "    return (B*np.matrix(A).getH())"
   ]
  },
  {
   "cell_type": "code",
   "execution_count": 7,
   "id": "a2d0b986",
   "metadata": {},
   "outputs": [
    {
     "data": {
      "text/plain": [
       "matrix([[5.47722558+0.j]])"
      ]
     },
     "execution_count": 7,
     "metadata": {},
     "output_type": "execute_result"
    }
   ],
   "source": [
    "prodInter(x, y)"
   ]
  },
  {
   "cell_type": "code",
   "execution_count": 8,
   "id": "158cae3b",
   "metadata": {},
   "outputs": [],
   "source": [
    "def prodExt(A, B):\n",
    "    return np.transpose(np.matrix(A).getH()*B)"
   ]
  },
  {
   "cell_type": "code",
   "execution_count": 9,
   "id": "d0c0863c",
   "metadata": {},
   "outputs": [
    {
     "data": {
      "text/plain": [
       "matrix([[0.91287093+0.j        , 0.36514837-2.00831604j],\n",
       "        [0.36514837+2.00831604j, 4.56435465+0.j        ]])"
      ]
     },
     "execution_count": 9,
     "metadata": {},
     "output_type": "execute_result"
    }
   ],
   "source": [
    "prodExt(x, y)"
   ]
  },
  {
   "cell_type": "markdown",
   "id": "24fb1969",
   "metadata": {},
   "source": [
    "## Ortogonalidad e indepedencia lineal "
   ]
  },
  {
   "cell_type": "code",
   "execution_count": 10,
   "id": "dbf348ed",
   "metadata": {},
   "outputs": [],
   "source": [
    "matrix = np.array(\n",
    "    [\n",
    "        [0, 1 ,5 ,20],\n",
    "        [3, 0, 4, 15],\n",
    "        [0, 1, 9, 34],\n",
    "        [1, 7, 0, 0]\n",
    "    ])"
   ]
  },
  {
   "cell_type": "code",
   "execution_count": 11,
   "id": "351bf890",
   "metadata": {},
   "outputs": [],
   "source": [
    "A = np.array([1, 1j])\n",
    "B = np.array([1j, 1])"
   ]
  },
  {
   "cell_type": "code",
   "execution_count": 12,
   "id": "18a15878",
   "metadata": {},
   "outputs": [],
   "source": [
    "def IndepLin(M):\n",
    "    return (M.shape[1] == np.linalg.matrix_rank(M))"
   ]
  },
  {
   "cell_type": "code",
   "execution_count": 13,
   "id": "02ad30fa",
   "metadata": {},
   "outputs": [
    {
     "data": {
      "text/plain": [
       "True"
      ]
     },
     "execution_count": 13,
     "metadata": {},
     "output_type": "execute_result"
    }
   ],
   "source": [
    "IndepLin(matrix)"
   ]
  },
  {
   "cell_type": "code",
   "execution_count": 14,
   "id": "8e807922",
   "metadata": {},
   "outputs": [],
   "source": [
    "def Orto(A, B):\n",
    "    return (prodInter(A, B) == 0)"
   ]
  },
  {
   "cell_type": "code",
   "execution_count": 15,
   "id": "71f2cb63",
   "metadata": {},
   "outputs": [
    {
     "data": {
      "text/plain": [
       "matrix([[ True]])"
      ]
     },
     "execution_count": 15,
     "metadata": {},
     "output_type": "execute_result"
    }
   ],
   "source": [
    "Orto(A, B)"
   ]
  },
  {
   "cell_type": "markdown",
   "id": "277911fe",
   "metadata": {},
   "source": [
    "## Producto tensorial"
   ]
  },
  {
   "cell_type": "code",
   "execution_count": 16,
   "id": "02be5c51",
   "metadata": {},
   "outputs": [],
   "source": [
    "M = np.array(\n",
    "    [\n",
    "        [0, 1],\n",
    "        [1, 0],\n",
    "    ])"
   ]
  },
  {
   "cell_type": "code",
   "execution_count": 17,
   "id": "504406bf",
   "metadata": {},
   "outputs": [],
   "source": [
    "def M_Unit(M):\n",
    "    return np.allclose(np.eye(np.shape(M)[0]), np.matrix(M).getH()*M)"
   ]
  },
  {
   "cell_type": "markdown",
   "id": "e59b3d95",
   "metadata": {},
   "source": [
    "np.eye(np.shape(M)[0]) Nos da un matriz identidad de 2X2  \n",
    "np.matrix(M).getH()*M  Nos da $ M* M^\\dagger $  \n",
    "np.allclose(np.eye(np.shape(M)[0]), np.matrix(M).getH()*M) Nos da un booleano comparando las dos matrices"
   ]
  },
  {
   "cell_type": "code",
   "execution_count": 18,
   "id": "3cf7692b",
   "metadata": {},
   "outputs": [
    {
     "data": {
      "text/plain": [
       "True"
      ]
     },
     "execution_count": 18,
     "metadata": {},
     "output_type": "execute_result"
    }
   ],
   "source": [
    "M_Unit(M)"
   ]
  },
  {
   "cell_type": "code",
   "execution_count": 19,
   "id": "5825013b",
   "metadata": {},
   "outputs": [
    {
     "data": {
      "text/plain": [
       "array([[0, 0, 0, 1],\n",
       "       [0, 0, 1, 0],\n",
       "       [0, 1, 0, 0],\n",
       "       [1, 0, 0, 0]])"
      ]
     },
     "execution_count": 19,
     "metadata": {},
     "output_type": "execute_result"
    }
   ],
   "source": [
    "np.kron(M, M) # Producto tensorial"
   ]
  },
  {
   "cell_type": "markdown",
   "id": "d4e6800e",
   "metadata": {},
   "source": [
    "## Compuertas cuánticas"
   ]
  },
  {
   "cell_type": "code",
   "execution_count": 1,
   "id": "26989f93",
   "metadata": {},
   "outputs": [],
   "source": [
    "from qiskit import *\n",
    "%matplotlib inline\n",
    "from math import pi, sqrt"
   ]
  },
  {
   "cell_type": "code",
   "execution_count": 7,
   "id": "2010953b",
   "metadata": {},
   "outputs": [],
   "source": [
    "from qiskit.visualization import plot_state_city, plot_bloch_multivector\n",
    "from qiskit.visualization import plot_state_paulivec, plot_state_hinton\n",
    "from qiskit.visualization import plot_state_qsphere"
   ]
  },
  {
   "cell_type": "code",
   "execution_count": 26,
   "id": "233ce811",
   "metadata": {},
   "outputs": [],
   "source": [
    "# Circuito con 5 Qubits\n",
    "circ = QuantumCircuit(2)"
   ]
  },
  {
   "cell_type": "code",
   "execution_count": 27,
   "id": "e5b95746",
   "metadata": {},
   "outputs": [
    {
     "data": {
      "text/plain": [
       "<qiskit.circuit.instructionset.InstructionSet at 0x189fdec1460>"
      ]
     },
     "execution_count": 27,
     "metadata": {},
     "output_type": "execute_result"
    }
   ],
   "source": [
    "circ.h(0) #Matriz Hadamard\n",
    "circ.x(1) #Matriz de Paulli x"
   ]
  },
  {
   "cell_type": "code",
   "execution_count": 28,
   "id": "039a2f0f",
   "metadata": {},
   "outputs": [
    {
     "data": {
      "image/png": "[encoded data removed]",
      "text/plain": [
       "<Figure size 146.652x144.48 with 1 Axes>"
      ]
     },
     "execution_count": 28,
     "metadata": {},
     "output_type": "execute_result"
    }
   ],
   "source": [
    "circ.draw('mpl')"
   ]
  },
  {
   "cell_type": "code",
   "execution_count": 29,
   "id": "db178daf",
   "metadata": {},
   "outputs": [],
   "source": [
    "backend = Aer.get_backend('statevector_simulator')\n",
    "result = execute(circ,backend).result()\n",
    "output = result.get_statevector(circ, decimals=3)"
   ]
  },
  {
   "cell_type": "code",
   "execution_count": 30,
   "id": "fc63e558",
   "metadata": {},
   "outputs": [
    {
     "data": {
      "image/png": "[encoded data removed]",
      "text/plain": [
       "<Figure size 1080x360 with 2 Axes>"
      ]
     },
     "execution_count": 30,
     "metadata": {},
     "output_type": "execute_result"
    }
   ],
   "source": [
    "# Funcion que da todos los posibles valores de los qubits\n",
    "#visualization.plot_state_city(output) Este comando, \n",
    "#sirve en los videos del curso pero no sirve aquí, tal ves la librería se actualizó, abajo puse el comaando que hace lo que debería el anterior\n",
    "plot_state_city(output)"
   ]
  },
  {
   "cell_type": "code",
   "execution_count": null,
   "id": "b600548a",
   "metadata": {},
   "outputs": [],
   "source": []
  }
 ],
 "metadata": {
  "kernelspec": {
   "display_name": "Python 3 (ipykernel)",
   "language": "python",
   "name": "python3"
  },
  "language_info": {
   "codemirror_mode": {
    "name": "ipython",
    "version": 3
   },
   "file_extension": ".py",
   "mimetype": "text/x-python",
   "name": "python",
   "nbconvert_exporter": "python",
   "pygments_lexer": "ipython3",
   "version": "3.9.12"
  }
 },
 "nbformat": 4,
 "nbformat_minor": 5
}
